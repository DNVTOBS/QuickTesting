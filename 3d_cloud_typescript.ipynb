{
 "cells": [
  {
   "cell_type": "markdown",
   "metadata": {},
   "source": [
    "# Phast - 3D Cloud (TypeScript)\n",
    "Traditionally, dispersion results are displayed in 2D graphs. With the Phast APIs, we can easily vary the height of interest to visualise a three dimensional cloud."
   ]
  },
  {
   "cell_type": "markdown",
   "metadata": {},
   "source": [
    "## Import the required items"
   ]
  },
  {
   "cell_type": "code",
   "execution_count": 1,
   "metadata": {},
   "outputs": [],
   "source": [
    "import {\n",
    "  VesselStateCalculation,\n",
    "  VesselLeakCalculation\n",
    "} from \"./src/calculations/discharge\";\n",
    "\n",
    "import { DispersionCalculation } from \"./src/calculations/dispersion\";\n",
    "\n",
    "import { MixtureConstantPropertiesCalculation } from \"./src/calculations/applicationTools\";\n",
    "\n",
    "import { DistancesAndFootprintsToConcentrationLevelsCalculation } from \"./src/calculations/dispersionView\";\n",
    "\n",
    "import {\n",
    "  State,\n",
    "  Material,\n",
    "  MaterialComponent,\n",
    "  Vessel,\n",
    "  Leak,\n",
    "  DischargeParameters,\n",
    "  DispersionParameters,\n",
    "  Weather,\n",
    "  Substrate,\n",
    "  DispersionOutputConfig,\n",
    "  LocalPosition,\n",
    "} from \"./src/entities\";\n",
    "\n",
    "import {\n",
    "  ResultCode,\n",
    "  FluidSpec,\n",
    "  MixtureModelling,\n",
    "  SpecialConcentration,\n",
    "} from \"./src/enums\";\n",
    "\n",
    "import { setAccessToken } from \"./src/utilities\";\n",
    "import { getMaterialByName } from \"./src/materials\";\n",
    "import Plotly from \"tslab-plotly\";\n",
    "import * as tslab from \"tslab\";\n",
    "\n",
    "// Set up access token\n",
    "const accessToken = process.env.PWS_ACCESS_TOKEN;\n",
    "if (!accessToken) {\n",
    "  throw new Error(\"PWS_ACCESS_TOKEN environment variable is not set.\");\n",
    "}\n",
    "setAccessToken(accessToken);\n"
   ]
  },
  {
   "cell_type": "markdown",
   "metadata": {},
   "source": [
    "## Running discharge calculations"
   ]
  },
  {
   "cell_type": "markdown",
   "metadata": {},
   "source": [
    "### Calculate the vessel conditions\n",
    "Define the input data and determine the vessel conditions..."
   ]
  },
  {
   "cell_type": "code",
   "execution_count": 2,
   "metadata": {},
   "outputs": [
    {
     "name": "stdout",
     "output_type": "stream",
     "text": [
      "Vessel state calculation successful.\n",
      "The vessel conditions are 1\n"
     ]
    }
   ],
   "source": [
    "const material = await getMaterialByName(\"HYDROGEN\");\n",
    "const pressure = 20000000;\n",
    "const temperature = 293.15;\n",
    "const holeDiameter = 0.02;\n",
    "\n",
    "const state = new State({\n",
    "  pressure: pressure,\n",
    "  temperature: temperature,\n",
    "  liquidFraction: 0,\n",
    "  flashFlag: FluidSpec.TP,\n",
    "  mixtureModelling: MixtureModelling.PC\n",
    "});\n",
    "\n",
    "const vesselStateCalculation = new VesselStateCalculation(material, state);\n",
    "\n",
    "const resultCode = await vesselStateCalculation.run();\n",
    "\n",
    "if (resultCode === ResultCode.SUCCESS) {\n",
    "    console.log(\"Vessel state calculation successful.\");\n",
    "    console.log(\"The vessel conditions are \" + vesselStateCalculation.vesselConditions);\n",
    "    \n",
    "    var vesselConditions = vesselStateCalculation.vesselConditions;\n",
    "} else {\n",
    "    console.log(\"Vessel state calculation failed.\");\n",
    "}"
   ]
  },
  {
   "cell_type": "markdown",
   "metadata": {},
   "source": [
    "### Calculate the discharge\n",
    "Use the VesselLeakCalculation class to model the discharge..."
   ]
  },
  {
   "cell_type": "code",
   "execution_count": 3,
   "metadata": {},
   "outputs": [
    {
     "name": "stdout",
     "output_type": "stream",
     "text": [
      "Discharge calculations successful.\n"
     ]
    }
   ],
   "source": [
    "const vessel = new Vessel({\n",
    "  state: state,\n",
    "  material: material,\n",
    "  liquidFillFractionByVolume: 0,\n",
    "  vesselConditions: vesselStateCalculation.vesselConditions\n",
    "});\n",
    "\n",
    "const leak = new Leak({\n",
    "  holeDiameter: holeDiameter\n",
    "});\n",
    "\n",
    "const dischargeParameters = new DischargeParameters();\n",
    "\n",
    "const vesselLeakCalculation = new VesselLeakCalculation(\n",
    "  vessel,\n",
    "  leak,\n",
    "  dischargeParameters\n",
    ");\n",
    "\n",
    "const resultCode2 = await vesselLeakCalculation.run();\n",
    "\n",
    "if (resultCode2 === ResultCode.SUCCESS) {\n",
    "    console.log(\"Discharge calculations successful.\");\n",
    "} else {\n",
    "    console.log(\"Discharge calculations failed.\");\n",
    "}"
   ]
  },
  {
   "cell_type": "markdown",
   "metadata": {},
   "source": [
    "### Review the discharge results\n",
    "In this scenario, the Leak uses the default INITIAL_RATE for the timeVaryingOption. In other words, the leak is a constant discharge at the maximum discharge rate."
   ]
  },
  {
   "cell_type": "code",
   "execution_count": 4,
   "metadata": {},
   "outputs": [
    {
     "name": "stdout",
     "output_type": "stream",
     "text": [
      "Time: 0.00 s, Mass flow: 3.27 kg/s\n",
      "Time: 55.45 s, Mass flow: 3.27 kg/s\n"
     ]
    }
   ],
   "source": [
    "for (const record of vesselLeakCalculation.dischargeRecords!) {\n",
    "    console.log(`Time: ${record.time.toFixed(2)} s, Mass flow: ${record.massFlow.toFixed(2)} kg/s`);\n",
    "}"
   ]
  },
  {
   "cell_type": "markdown",
   "metadata": {},
   "source": [
    "## Running dispersion calculations"
   ]
  },
  {
   "cell_type": "markdown",
   "metadata": {},
   "source": [
    "### Calculate the dispersion\n",
    "We can pass the discharge results into a DispersionCalculation..."
   ]
  },
  {
   "cell_type": "code",
   "execution_count": 5,
   "metadata": {},
   "outputs": [
    {
     "name": "stdout",
     "output_type": "stream",
     "text": [
      "Dispersion calculations successful.\n"
     ]
    }
   ],
   "source": [
    "const weather = new Weather({\n",
    "  windSpeed: 5\n",
    "});\n",
    "\n",
    "const substrate = new Substrate();\n",
    "const dispersionCalculations: DispersionCalculation[] = [];\n",
    "const endPointConcentration = 0.0;\n",
    "const dispersionParameters = new DispersionParameters();\n",
    "\n",
    "const dispersionCalculation = new DispersionCalculation(\n",
    "  vesselLeakCalculation.exitMaterial!,\n",
    "  substrate,\n",
    "  vesselLeakCalculation.dischargeResult!,\n",
    "  vesselLeakCalculation.dischargeRecords!,\n",
    "  vesselLeakCalculation.dischargeRecords!.length,\n",
    "  weather,\n",
    "  dispersionParameters,\n",
    "  endPointConcentration\n",
    ");\n",
    "\n",
    "const resultCode3 = await dispersionCalculation.run();\n",
    "\n",
    "if (resultCode3 === ResultCode.SUCCESS) {\n",
    "    console.log(\"Dispersion calculations successful.\");\n",
    "} else {\n",
    "    console.log(\"Dispersion calculations failed.\");\n",
    "}"
   ]
  },
  {
   "cell_type": "markdown",
   "metadata": {},
   "source": [
    "## Running post-processing calculations"
   ]
  },
  {
   "cell_type": "markdown",
   "metadata": {},
   "source": [
    "### Calculate distances and footprints to concentration levels\n",
    "The DispersionCalculation returns raw dispersion results which need to be post-processed. For this we can use the DistancesAndFootprintsToConcentrationLevelsCalculation class to generate contour points on an XY plane.\n",
    "\n",
    "This calculation requires a list of DispersionOutputConfig. This is normally reserved for situations where there are multiple concentrations of interest, one per output config. Although the output config has an elevation property, which is the height of interest for the footprint, at the time of writing the API does not support varying the elevation in a single calculation.\n",
    "\n",
    "Thus, we run one DistancesAndFootprintsToConcentrationLevelsCalculation per heightOfInterest."
   ]
  },
  {
   "cell_type": "code",
   "execution_count": 6,
   "metadata": {},
   "outputs": [
    {
     "name": "stdout",
     "output_type": "stream",
     "text": [
      "Footprint calculations successful for 0 m height.\n",
      "Footprint calculations successful for 1 m height.\n",
      "Footprint calculations successful for 2 m height.\n",
      "Footprint calculations successful for 3 m height.\n",
      "Footprint calculations successful for 4 m height.\n",
      "Footprint calculations successful for 5 m height.\n",
      "Footprint calculations successful for 6 m height.\n"
     ]
    }
   ],
   "source": [
    "const heightsOfInterest = [0, 1, 2, 3, 4, 5, 6];\n",
    "const footprintCalculations: DistancesAndFootprintsToConcentrationLevelsCalculation[] = [];\n",
    "\n",
    "for (const heightOfInterest of heightsOfInterest) {\n",
    "    const footprintCalculation = new DistancesAndFootprintsToConcentrationLevelsCalculation(\n",
    "        dispersionCalculation.scalarUdmOutputs!,\n",
    "        weather,\n",
    "        dispersionCalculation.dispersionRecords!,\n",
    "        dispersionCalculation.dispersionRecords!.length,\n",
    "        substrate,\n",
    "        [new DispersionOutputConfig({\n",
    "            elevation: heightOfInterest,\n",
    "            specialConcentration: SpecialConcentration.LFL\n",
    "        })],\n",
    "        1,\n",
    "        dispersionParameters,\n",
    "        vesselLeakCalculation.exitMaterial!\n",
    "    );\n",
    "\n",
    "    const resultCode4 = await footprintCalculation.run();\n",
    "\n",
    "    if (resultCode4 === ResultCode.SUCCESS) {\n",
    "        console.log(`Footprint calculations successful for ${heightOfInterest} m height.`);\n",
    "        footprintCalculations.push(footprintCalculation);\n",
    "    } else {\n",
    "        console.log(\"Footprint calculations failed.\");\n",
    "    }\n",
    "}"
   ]
  },
  {
   "cell_type": "markdown",
   "metadata": {},
   "source": [
    "## Review the results"
   ]
  },
  {
   "cell_type": "markdown",
   "metadata": {},
   "source": [
    "The DistancesAndFootprintsToConcentrationLevelsCalculation provides XY contour points for a specific concentration. In this case, we used the SpecialConcentration.LFL option. Let's check this..."
   ]
  },
  {
   "cell_type": "code",
   "execution_count": 7,
   "metadata": {},
   "outputs": [
    {
     "name": "stdout",
     "output_type": "stream",
     "text": [
      "The concentration fraction used in the footprint calculation for a height of 0 is [0.04]\n",
      "The concentration fraction used in the footprint calculation for a height of 1 is [0.04]\n",
      "The concentration fraction used in the footprint calculation for a height of 2 is [0.04]\n",
      "The concentration fraction used in the footprint calculation for a height of 3 is [0.04]\n",
      "The concentration fraction used in the footprint calculation for a height of 4 is [0.04]\n",
      "The concentration fraction used in the footprint calculation for a height of 5 is [0.04]\n",
      "The concentration fraction used in the footprint calculation for a height of 6 is [0.04]\n",
      "This compares to an LFL for hydrogen equal to 0.04, which is equivalent to 40000 ppm.\n"
     ]
    }
   ],
   "source": [
    "for (const footprintCalculation of footprintCalculations) {\n",
    "    console.log(`The concentration fraction used in the footprint calculation for a height of ${footprintCalculation.dispersionOutputConfigs[0].elevation} is [${footprintCalculation.concsUsed}]`);\n",
    "}\n",
    "\n",
    "const constantMixtureProperties = new MixtureConstantPropertiesCalculation(material);\n",
    "\n",
    "const resultCode5 = await constantMixtureProperties.run();\n",
    "\n",
    "if (resultCode5 === ResultCode.SUCCESS) {\n",
    "    const lfl = constantMixtureProperties.mixConstantPropResult!.lowerFlammabilityLimit;\n",
    "    console.log(`This compares to an LFL for hydrogen equal to ${lfl}, ` +\n",
    "          `which is equivalent to ${lfl * 1000000} ppm.`);\n",
    "} else {\n",
    "    console.log(\"Mixture properties calculations failed.\");\n",
    "}"
   ]
  },
  {
   "cell_type": "markdown",
   "metadata": {},
   "source": [
    "The DistancesAndFootprintsToConcentrationLevelsCalculation object has a distancesConcentration property which provides us with the downwind distance to the concentration used in the calculation."
   ]
  },
  {
   "cell_type": "code",
   "execution_count": 8,
   "metadata": {},
   "outputs": [
    {
     "name": "stdout",
     "output_type": "stream",
     "text": [
      "The downwind distance to a concentration fraction of 0.04 is 52.97 m.\n",
      "The downwind distance to a concentration fraction of 0.04 is 59.20 m.\n",
      "The downwind distance to a concentration fraction of 0.04 is 63.54 m.\n",
      "The downwind distance to a concentration fraction of 0.04 is 66.35 m.\n",
      "The downwind distance to a concentration fraction of 0.04 is 67.23 m.\n",
      "The downwind distance to a concentration fraction of 0.04 is 65.23 m.\n",
      "The downwind distance to a concentration fraction of 0.04 is -9.95e+36 m.\n"
     ]
    }
   ],
   "source": [
    "for (const footprintCalculation of footprintCalculations) {\n",
    "    const distance = footprintCalculation.distancesConcentration![0];\n",
    "    console.log(`The downwind distance to a concentration fraction of ${footprintCalculation.concsUsed![0]} is ${distance.toFixed(2)} m.`);\n",
    "}"
   ]
  },
  {
   "cell_type": "markdown",
   "metadata": {},
   "source": [
    "## Plot the contour points"
   ]
  },
  {
   "cell_type": "markdown",
   "metadata": {},
   "source": [
    "The DistancesAndFootprintsToConcentrationLevelsCalculation object has a contourPoints property. This is a list of LocalPosition, which itself has x, y and z properties.\n",
    "\n",
    "**Note:** The ncontourPoints property contains the number of graphing points per DispersionOutputConfig, and contourPoints is an array of all graphing points for all DispersionOutputConfigs, where the order of the graphing points is the same order in which the DispersionOutputConfigs were provided. For example, if you defined three output configs for concentration levels ordered as LFL, LFLFraction and UFL, the contourPoints array will contain the graphing points for LFL, LFLFraction and UFL in the same order.\n",
    "\n",
    "Unlike contour data for radiation, the number of contour points for each scenario is not always the same.\n",
    "\n",
    "Let's extract and display the 3D data..."
   ]
  },
  {
   "cell_type": "code",
   "execution_count": 9,
   "metadata": {},
   "outputs": [
    {
     "name": "stdout",
     "output_type": "stream",
     "text": [
      "Total valid contour points: 3212\n",
      "X range: -0.10 to 67.23 m\n",
      "Y range: -3.12 to 3.12 m\n",
      "Z range: 0.00 to 5.00 m\n",
      "3D cloud data prepared for visualization:\n"
     ]
    }
   ],
   "source": [
    "// MDE value check - threshold value returned from the model development environment\n",
    "const mdeValueCheck = -9.9E+36; // -9.95E+36 is a threshold value to signify that there is no result\n",
    "\n",
    "// Extract x, y, z values from all footprint calculations\n",
    "const xValues: number[] = [];\n",
    "const yValues: number[] = [];\n",
    "const zValues: number[] = [];\n",
    "\n",
    "for (const calculation of footprintCalculations) {\n",
    "    for (const point of calculation.contourPoints!) {\n",
    "        if (point.x > mdeValueCheck) {\n",
    "            xValues.push(point.x);\n",
    "            yValues.push(point.y);\n",
    "            zValues.push(point.z);\n",
    "        }\n",
    "    }\n",
    "}\n",
    "\n",
    "console.log(`Total valid contour points: ${xValues.length}`);\n",
    "console.log(`X range: ${Math.min(...xValues).toFixed(2)} to ${Math.max(...xValues).toFixed(2)} m`);\n",
    "console.log(`Y range: ${Math.min(...yValues).toFixed(2)} to ${Math.max(...yValues).toFixed(2)} m`);\n",
    "console.log(`Z range: ${Math.min(...zValues).toFixed(2)} to ${Math.max(...zValues).toFixed(2)} m`);\n",
    "\n",
    "// Export data for visualization (can be imported into plotting libraries)\n",
    "const plotData = {\n",
    "    x: xValues,\n",
    "    y: yValues,\n",
    "    z: zValues,\n",
    "    type: '3D Cloud Contour Points',\n",
    "    concentration: 'LFL (Lower Flammability Limit)',\n",
    "    material: 'Hydrogen'\n",
    "};\n",
    "\n",
    "console.log(\"3D cloud data prepared for visualization:\");\n",
    "//console.log(JSON.stringify(plotData, null, 2));"
   ]
  },
  {
   "cell_type": "code",
   "execution_count": 10,
   "metadata": {},
   "outputs": [
    {
     "data": {
      "image/png":
       "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:"
     },
     "metadata": {},
     "output_type": "display_data"
    }
   ],
   "source": [
    "// MDE value check\n",
    "const mdeValueCheck = -9.9E+36;\n",
    "\n",
    "const xValues: number[] = [];\n",
    "const yValues: number[] = [];\n",
    "const zValues: number[] = [];\n",
    "\n",
    "for (const calculation of footprintCalculations) {\n",
    "    for (const point of calculation.contourPoints!) {\n",
    "        if (point.x > mdeValueCheck) {\n",
    "            xValues.push(point.x);\n",
    "            yValues.push(point.y);\n",
    "            zValues.push(point.z);\n",
    "        }\n",
    "    }\n",
    "}\n",
    "\n",
    "// Plotting\n",
    "Plotly.newPlot(tslab, [{\n",
    "    type: \"scatter3d\",\n",
    "    mode: \"markers\",\n",
    "    x: xValues,\n",
    "    y: yValues,\n",
    "    z: zValues,\n",
    "    marker: {\n",
    "        size: 2,\n",
    "        color: zValues,\n",
    "        colorscale: \"Viridis\",\n",
    "        opacity: 0.8,\n",
    "        colorbar: {\n",
    "            title: \"Elevation (m)\"\n",
    "        }\n",
    "    }\n",
    "}], {\n",
    "    title: \"3D Cloud Contour Points - Hydrogen (LFL)\",\n",
    "    scene: {\n",
    "        xaxis: { title: \"X (m)\" },\n",
    "        yaxis: { title: \"Y (m)\" },\n",
    "        zaxis: { title: \"Z (m)\" }\n",
    "    },\n",
    "    width: 800,\n",
    "    height: 600\n",
    "});"
   ]
  },
  {
   "cell_type": "markdown",
   "metadata": {},
   "source": [
    "## Summary\n",
    "\n",
    "This TypeScript implementation replicates the Python 3D cloud analysis:\n",
    "\n",
    "1. **Vessel State Calculation**: Determines the conditions of hydrogen at specified pressure and temperature\n",
    "2. **Discharge Calculation**: Models the leak through a specified hole diameter\n",
    "3. **Dispersion Calculation**: Simulates how the gas disperses in the atmosphere\n",
    "4. **Multi-Height Analysis**: Calculates footprints at different elevations (0-6m)\n",
    "5. **3D Visualization Data**: Extracts contour points for 3D visualization\n",
    "\n",
    "The results show how a hydrogen cloud's Lower Flammability Limit (LFL) boundary varies with height, providing critical safety information for hazard assessment."
   ]
  },
  {
   "cell_type": "code",
   "execution_count": null,
   "metadata": {},
   "outputs": [],
   "source": []
  }
 ],
 "metadata": {
  "kernelspec": {
   "display_name": "TypeScript",
   "language": "typescript",
   "name": "tslab"
  },
  "language_info": {
   "codemirror_mode": {
    "mode": "typescript",
    "name": "javascript",
    "typescript": true
   },
   "file_extension": ".ts",
   "mimetype": "text/typescript",
   "name": "typescript",
   "version": "3.7.2"
  }
 },
 "nbformat": 4,
 "nbformat_minor": 4
}

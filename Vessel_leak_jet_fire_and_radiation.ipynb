{
 "cells": [
  {
   "cell_type": "markdown",
   "metadata": {},
   "source": [
    "# Phast - Vessel Leak, Jet Fire and Radiation\n",
    "In this demo, we're going to model a leak from a vessel and see some discharge results, jet fire flame length results and radiation results."
   ]
  },
  {
   "cell_type": "markdown",
   "metadata": {},
   "source": [
    "## Import the required items"
   ]
  },
  {
   "cell_type": "code",
   "execution_count": 1,
   "metadata": {},
   "outputs": [],
   "source": [
    "import {\n",
    "  VesselStateCalculation,\n",
    "  VesselLeakCalculation\n",
    "} from \"./src/calculations/discharge\";\n",
    "\n",
    "import { JetFireCalculation } from \"./src/calculations/jetFire\";\n",
    "\n",
    "import { DistancesAndEllipsesToRadiationLevelsCalculation } from \"./src/calculations/radiation\";\n",
    "\n",
    "import {\n",
    "  State,\n",
    "  Material,\n",
    "  MaterialComponent,\n",
    "  Vessel,\n",
    "  Leak,\n",
    "  DischargeParameters,\n",
    "  Weather,\n",
    "  Substrate,\n",
    "  FlammableParameters,\n",
    "  FlammableOutputConfig\n",
    "} from \"./src/entities\";\n",
    "\n",
    "import {\n",
    "  ResultCode,\n",
    "  FluidSpec,\n",
    "  MixtureModelling,\n",
    "  TimeVaryingOption\n",
    "} from \"./src/enums\";\n",
    "\n",
    "import { setAccessToken } from \"./src/utilities\";\n",
    "import { getMaterialByName } from \"./src/materials\";\n",
    "import Plotly from \"tslab-plotly\";\n",
    "import * as tslab from \"tslab\";\n",
    "\n",
    "// Set up access token\n",
    "const accessToken = process.env.PWS_ACCESS_TOKEN;\n",
    "if (!accessToken) {\n",
    "  throw new Error(\"PWS_ACCESS_TOKEN environment variable is not set.\");\n",
    "}\n",
    "setAccessToken(accessToken);"
   ]
  },
  {
   "cell_type": "markdown",
   "metadata": {},
   "source": [
    "## Running discharge calculations"
   ]
  },
  {
   "cell_type": "markdown",
   "metadata": {},
   "source": [
    "### Define the input data\n",
    "To run discharge calculations for a leak from a vessel we need, as a minimum, material, pressure, temperature and hole diameter. All units are S.I."
   ]
  },
  {
   "cell_type": "code",
   "execution_count": 2,
   "metadata": {},
   "outputs": [],
   "source": [
    "const material = await getMaterialByName(\"METHANE\");\n",
    "const pressure = 5000000;\n",
    "const temperature = 293.15;\n",
    "const holeDiameter = 0.2;"
   ]
  },
  {
   "cell_type": "markdown",
   "metadata": {},
   "source": [
    "### Calculate the vessel conditions\n",
    "The discharge calculations needs to know the conditions inside the vessel.\n",
    "\n",
    "First, define a new State..."
   ]
  },
  {
   "cell_type": "code",
   "execution_count": 3,
   "metadata": {},
   "outputs": [
    {
     "name": "stdout",
     "output_type": "stream",
     "text": [
      "Vessel state calculation successful.\n",
      "The vessel conditions are 1\n"
     ]
    }
   ],
   "source": [
    "const state = new State({\n",
    "  pressure: pressure,\n",
    "  temperature: temperature,\n",
    "  liquidFraction: 0,\n",
    "  flashFlag: FluidSpec.TP,\n",
    "  mixtureModelling: MixtureModelling.PC\n",
    "});\n",
    "\n",
    "const vesselStateCalculation = new VesselStateCalculation(material, state);\n",
    "\n",
    "const resultCode = await vesselStateCalculation.run();\n",
    "\n",
    "if (resultCode === ResultCode.SUCCESS) {\n",
    "    console.log(\"Vessel state calculation successful.\");\n",
    "    console.log(\"The vessel conditions are \" + vesselStateCalculation.vesselConditions);\n",
    "    \n",
    "    var vesselConditions = vesselStateCalculation.vesselConditions;\n",
    "} else {\n",
    "    console.log(\"Vessel state calculation failed.\");\n",
    "}"
   ]
  },
  {
   "cell_type": "markdown",
   "metadata": {},
   "source": [
    "### Calculate the discharge\n",
    "Discharge calculations for a leak from a vessel are provided by the VesselLeakCalculation class.\n",
    "\n",
    "This calculation requires Vessel, Leak and DischargeParameters entities. The properties of these entities can be set when initialising them. Note that the vessel_conditions in the vessel are set to the result from the previous step."
   ]
  },
  {
   "cell_type": "code",
   "execution_count": 4,
   "metadata": {},
   "outputs": [
    {
     "name": "stdout",
     "output_type": "stream",
     "text": [
      "Discharge calculations successful.\n"
     ]
    }
   ],
   "source": [
    "const vessel = new Vessel({\n",
    "  state: state,\n",
    "  material: material,\n",
    "  liquidFillFractionByVolume: 0,\n",
    "  vesselConditions: vesselStateCalculation.vesselConditions\n",
    "});\n",
    "\n",
    "const leak = new Leak({\n",
    "  holeDiameter: holeDiameter,\n",
    "  timeVaryingOption: TimeVaryingOption.TIME_VARYING_RATE\n",
    "});\n",
    "\n",
    "const dischargeParameters = new DischargeParameters();\n",
    "\n",
    "const vesselLeakCalculation = new VesselLeakCalculation(\n",
    "  vessel,\n",
    "  leak,\n",
    "  dischargeParameters\n",
    ");\n",
    "\n",
    "const resultCode2 = await vesselLeakCalculation.run();\n",
    "\n",
    "if (resultCode2 === ResultCode.SUCCESS) {\n",
    "    console.log(\"Discharge calculations successful.\");\n",
    "} else {\n",
    "    console.log(\"Discharge calculations failed.\");\n",
    "}"
   ]
  },
  {
   "cell_type": "markdown",
   "metadata": {},
   "source": [
    "### Plot the discharge results\n",
    "Get the relevant discharge records and plot mass flow vs time..."
   ]
  },
  {
   "cell_type": "code",
   "execution_count": 5,
   "metadata": {},
   "outputs": [
    {
     "data": {
      "image/png": "[encoded data removed]"
     },
     "metadata": {},
     "output_type": "display_data"
    }
   ],
   "source": [
    "if (vesselLeakCalculation.dischargeRecords) {\n",
    "    const timeData: number[] = [];\n",
    "    const massFlowData: number[] = [];\n",
    "    \n",
    "    for (const record of vesselLeakCalculation.dischargeRecords) {\n",
    "        timeData.push(record.time);\n",
    "        massFlowData.push(record.massFlow);\n",
    "    }\n",
    "    \n",
    "    // Plot mass flow vs time\n",
    "    Plotly.newPlot(tslab, [{\n",
    "        type: \"scatter\",\n",
    "        mode: \"lines+markers\",\n",
    "        x: timeData,\n",
    "        y: massFlowData,\n",
    "        marker: {\n",
    "            color: \"blue\",\n",
    "            symbol: \"circle\"\n",
    "        },\n",
    "        line: {\n",
    "            color: \"blue\"\n",
    "        }\n",
    "    }], {\n",
    "        title: \"Mass Flow vs Time\",\n",
    "        xaxis: { title: \"Time (s)\" },\n",
    "        yaxis: { title: \"Mass Flow (kg/s)\" },\n",
    "        showlegend: false,\n",
    "        width: 800,\n",
    "        height: 400\n",
    "    });\n",
    "} else {\n",
    "    console.log(\"Discharge calculations failed.\");\n",
    "}"
   ]
  },
  {
   "cell_type": "markdown",
   "metadata": {},
   "source": [
    "## Running jet fire calculations\n",
    "A jet fire calculation requires a Material, a Weather, a Substrate, FlammableParameters and some discharge results. In this example, we will use the discharge results from the vesselLeakCalculation. If you have your own discharge results from another method, you can feed those into the jet fire calculation instead."
   ]
  },
  {
   "cell_type": "markdown",
   "metadata": {},
   "source": [
    "### Calculate the jet fire\n",
    "First, define a Weather, Substrate and FlammableParameters..."
   ]
  },
  {
   "cell_type": "code",
   "execution_count": 6,
   "metadata": {},
   "outputs": [
    {
     "name": "stdout",
     "output_type": "stream",
     "text": [
      "Jet fire calculations successful.\n"
     ]
    }
   ],
   "source": [
    "const weather = new Weather({\n",
    "  windSpeed: 5\n",
    "});\n",
    "\n",
    "const substrate = new Substrate();\n",
    "const flammableParameters = new FlammableParameters();\n",
    "\n",
    "const jetFireCalculation = new JetFireCalculation(\n",
    "  vesselLeakCalculation.exitMaterial!,\n",
    "  vesselLeakCalculation.dischargeRecords!,\n",
    "  vesselLeakCalculation.dischargeRecords!.length,\n",
    "  vesselLeakCalculation.dischargeResult!,\n",
    "  weather,\n",
    "  substrate,\n",
    "  flammableParameters\n",
    ");\n",
    "\n",
    "const resultCode3 = await jetFireCalculation.run();\n",
    "\n",
    "if (resultCode3 === ResultCode.SUCCESS) {\n",
    "    console.log(\"Jet fire calculations successful.\");\n",
    "} else {\n",
    "    console.log(\"Jet fire calculations failed.\");\n",
    "}"
   ]
  },
  {
   "cell_type": "markdown",
   "metadata": {},
   "source": [
    "### Review the results\n",
    "Let's check the calculated flame length and surface emissive power..."
   ]
  },
  {
   "cell_type": "code",
   "execution_count": 7,
   "metadata": {},
   "outputs": [
    {
     "name": "stdout",
     "output_type": "stream",
     "text": [
      "The flame length is 66.5 metres\n",
      "The SEP is 294.2 kW/m2\n"
     ]
    }
   ],
   "source": [
    "if (jetFireCalculation.flameResult) {\n",
    "    const flameLength = jetFireCalculation.flameResult.flameLength;\n",
    "    const surfaceEmissivePower = jetFireCalculation.flameResult.surfaceEmissivePower;\n",
    "    \n",
    "    console.log(`The flame length is ${flameLength.toFixed(1)} metres`);\n",
    "    console.log(`The SEP is ${(surfaceEmissivePower / 1000).toFixed(1)} kW/m2`);\n",
    "}"
   ]
  },
  {
   "cell_type": "markdown",
   "metadata": {},
   "source": [
    "## Running radiation calculations"
   ]
  },
  {
   "cell_type": "markdown",
   "metadata": {},
   "source": [
    "### Calculate distances and ellipses to radiation levels\n",
    "Now that we have the jet fire results, we want to determine the thermal radiation results. For this we can use the DistancesAndEllipsesToRadiationLevelsCalculation class and pass the following:\n",
    "\n",
    "- FlameResult\n",
    "- list of FlameRecords\n",
    "- Weather\n",
    "- FlammableParameters\n",
    "- list of FlammableOutputConfigs\n",
    "\n",
    "We already have a Weather and a FlammableParameters from earlier. We just need one or more FlammableOutputConfigs. These FlammableOutputConfigs provide us with the means to specify the results that we are interested in, such as downwind distance to and footprint data for a specified radiation level, transect results or radiation at a particular xyz coordinate. In this example, we want to plot radiation footprint data for three radiation levels: 4, 12.5 and 37.5 kW/m2..."
   ]
  },
  {
   "cell_type": "code",
   "execution_count": 8,
   "metadata": {},
   "outputs": [
    {
     "name": "stdout",
     "output_type": "stream",
     "text": [
      "FlameResult:\n",
      "Time: 8.602186000374331\n",
      "Surface Emissive Power: 294239.5585921572\n",
      "Flame Length: 66.52212290713686\n",
      "Flame Diameter: -9.95e+36\n",
      "Fire Type: 4\n"
     ]
    }
   ],
   "source": [
    "const flammableOutputConfig1 = new FlammableOutputConfig({\n",
    "    radiationLevel: 4000  // use this for 4 kW/m2\n",
    "});\n",
    "\n",
    "const flammableOutputConfig2 = new FlammableOutputConfig({\n",
    "    radiationLevel: 12500  // use this for 12.5 kW/m2\n",
    "});\n",
    "\n",
    "const flammableOutputConfig3 = new FlammableOutputConfig({\n",
    "    radiationLevel: 37500  // use this for 37.5 kW/m2\n",
    "});\n",
    "\n",
    "if (jetFireCalculation.flameResult) {\n",
    "    console.log(\"FlameResult:\");\n",
    "    console.log(`Time: ${jetFireCalculation.flameResult.time}`);\n",
    "    console.log(`Surface Emissive Power: ${jetFireCalculation.flameResult.surfaceEmissivePower}`);\n",
    "    console.log(`Flame Length: ${jetFireCalculation.flameResult.flameLength}`);\n",
    "    console.log(`Flame Diameter: ${jetFireCalculation.flameResult.flameDiameter}`);\n",
    "    console.log(`Fire Type: ${jetFireCalculation.flameResult.fireType}`);\n",
    "}"
   ]
  },
  {
   "cell_type": "code",
   "execution_count": 9,
   "metadata": {},
   "outputs": [
    {
     "name": "stdout",
     "output_type": "stream",
     "text": [
      "Radiation calculations successful.\n"
     ]
    }
   ],
   "source": [
    "const distancesAndEllipsesToRadiationLevelsCalculation = new DistancesAndEllipsesToRadiationLevelsCalculation(\n",
    "    jetFireCalculation.flameResult!,\n",
    "    jetFireCalculation.flameRecords!,\n",
    "    jetFireCalculation.flameRecords!.length,\n",
    "    weather,\n",
    "    flammableParameters,\n",
    "    [flammableOutputConfig1, flammableOutputConfig2, flammableOutputConfig3],\n",
    "    3\n",
    ");\n",
    "\n",
    "const resultCode4 = await distancesAndEllipsesToRadiationLevelsCalculation.run();\n",
    "\n",
    "if (resultCode4 === ResultCode.SUCCESS) {\n",
    "    console.log(\"Radiation calculations successful.\");\n",
    "} else {\n",
    "    console.log(\"Radiation calculations failed.\");\n",
    "}"
   ]
  },
  {
   "cell_type": "markdown",
   "metadata": {},
   "source": [
    "### Review the results\n",
    "The calculation object has a distances property which is a list of downwind distances to the radiation levels in the three flammable output configs."
   ]
  },
  {
   "cell_type": "code",
   "execution_count": 12,
   "metadata": {},
   "outputs": [
    {
     "name": "stdout",
     "output_type": "stream",
     "text": [
      "The downwind distance to 4 kW/m2 is 121.0 metres\n",
      "The downwind distance to 12.5 kW/m2 is 93.0 metres\n",
      "The downwind distance to 37.5 kW/m2 is 73.9 metres\n"
     ]
    }
   ],
   "source": [
    "if (distancesAndEllipsesToRadiationLevelsCalculation.distances) {\n",
    "    \n",
    "    // The order of the downwind distances is the same order in which the flammable output configs were specified above\n",
    "    const distances = distancesAndEllipsesToRadiationLevelsCalculation.distances;\n",
    "    \n",
    "    console.log(`The downwind distance to ${flammableOutputConfig1.radiationLevel! / 1000} kW/m2 is ${distances[0].toFixed(1)} metres`);\n",
    "    console.log(`The downwind distance to ${flammableOutputConfig2.radiationLevel! / 1000} kW/m2 is ${distances[1].toFixed(1)} metres`);\n",
    "    console.log(`The downwind distance to ${flammableOutputConfig3.radiationLevel! / 1000} kW/m2 is ${distances[2].toFixed(1)} metres`);\n",
    "}"
   ]
  },
  {
   "cell_type": "markdown",
   "metadata": {},
   "source": [
    "### Plot the contour points\n",
    "Let's now plot an XY footprint of each radiation level.\n",
    "\n",
    "Since the DistancesAndEllipsesToRadiationLevelsCalculation supports multiple FlammableOutputConfigs, the contour_points are appended together. There are always 50 points per FlammableOutputConfig and the order is always the same order as that in which the FlammableOutputConfigs were passed in.\n",
    "\n",
    "We can check this as follows to be sure..."
   ]
  },
  {
   "cell_type": "code",
   "execution_count": 13,
   "metadata": {},
   "outputs": [
    {
     "name": "stdout",
     "output_type": "stream",
     "text": [
      "Number of contour points per config: [ \u001b[33m50\u001b[39m, \u001b[33m50\u001b[39m, \u001b[33m50\u001b[39m ]\n"
     ]
    }
   ],
   "source": [
    " console.log(\"Number of contour points per config:\", distancesAndEllipsesToRadiationLevelsCalculation.nContourPoints);"
   ]
  },
  {
   "cell_type": "code",
   "execution_count": 14,
   "metadata": {},
   "outputs": [
    {
     "data": {
      "image/png": "[encoded data removed]"
     },
     "metadata": {},
     "output_type": "display_data"
    }
   ],
   "source": [
    "if (distancesAndEllipsesToRadiationLevelsCalculation.nContourPoints) {\n",
    "    \n",
    "    // It's worth coding this check into the application in case DNV's APIs were ever modified to give a different number of points per flammable output config\n",
    "    let startIndex = 0;\n",
    "    const listOfArrays: Array<{x: number[], y: number[]}> = [];\n",
    "    \n",
    "    for (let i = 0; i < distancesAndEllipsesToRadiationLevelsCalculation.flammableOutputConfigs!.length; i++) {\n",
    "        const numberOfPoints = distancesAndEllipsesToRadiationLevelsCalculation.nContourPoints[i];\n",
    "        \n",
    "        const xData: number[] = [];\n",
    "        const yData: number[] = [];\n",
    "        \n",
    "        for (let j = startIndex; j < startIndex + numberOfPoints; j++) {\n",
    "            const contourPoint = distancesAndEllipsesToRadiationLevelsCalculation.contourPoints![j];\n",
    "            xData.push(contourPoint.x);\n",
    "            yData.push(contourPoint.y);\n",
    "        }\n",
    "        \n",
    "        listOfArrays.push({x: xData, y: yData});\n",
    "        startIndex += numberOfPoints;\n",
    "    }\n",
    "    \n",
    "    // Plot the radiation footprint\n",
    "    const colors = ['blue', 'green', 'red', 'cyan', 'magenta', 'yellow', 'black'];\n",
    "    const markers = ['circle', 'square', 'triangle-up', 'diamond', 'star', 'cross', 'x'];\n",
    "    const labels = [\n",
    "        `${flammableOutputConfig1.radiationLevel! / 1000} kW/m2`,\n",
    "        `${flammableOutputConfig2.radiationLevel! / 1000} kW/m2`,\n",
    "        `${flammableOutputConfig3.radiationLevel! / 1000} kW/m2`\n",
    "    ];\n",
    "    \n",
    "    const plotData = listOfArrays.map((array, idx) => ({\n",
    "        type: \"scatter\" as const,\n",
    "        mode: \"lines+markers\" as const,\n",
    "        x: array.x,\n",
    "        y: array.y,\n",
    "        marker: {\n",
    "            color: colors[idx % colors.length],\n",
    "            symbol: markers[idx % markers.length]\n",
    "        },\n",
    "        line: {\n",
    "            color: colors[idx % colors.length]\n",
    "        },\n",
    "        name: labels[idx % labels.length]\n",
    "    }));\n",
    "    \n",
    "    Plotly.newPlot(tslab, plotData, {\n",
    "        title: \"Radiation Footprint\",\n",
    "        xaxis: { title: \"X (m)\" },\n",
    "        yaxis: { title: \"Y (m)\" },\n",
    "        showlegend: true,\n",
    "        width: 800,\n",
    "        height: 400\n",
    "    });\n",
    "}"
   ]
  }
 ],
 "metadata": {
  "kernelspec": {
   "display_name": "TypeScript",
   "language": "typescript",
   "name": "tslab"
  },
  "language_info": {
   "codemirror_mode": {
    "mode": "typescript",
    "name": "javascript",
    "typescript": true
   },
   "file_extension": ".ts",
   "mimetype": "text/typescript",
   "name": "typescript",
   "version": "3.7.2"
  }
 },
 "nbformat": 4,
 "nbformat_minor": 4
}

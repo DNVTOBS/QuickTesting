{
 "cells": [
  {
   "cell_type": "markdown",
   "metadata": {},
   "source": [
    "# Phast - 3D Cloud\n",
    "Traditionally, dispersion results are displayed in 2D graphs. With the Phast APIs, we can easily vary the height of interest to visualise a three dimensional cloud."
   ]
  },
  {
   "cell_type": "markdown",
   "metadata": {},
   "source": [
    "## Import the required items"
   ]
  },
  {
   "cell_type": "code",
   "execution_count": 24,
   "metadata": {},
   "outputs": [],
   "source": [
    "import {\n",
    "  VesselStateCalculation,\n",
    "  VesselLeakCalculation\n",
    "} from \"./src/calculations/discharge\";\n",
    "\n",
    "import { DispersionCalculation } from \"./src/calculations/dispersion\";\n",
    "\n",
    "import { MixtureConstantPropertiesCalculation } from \"./src/calculations/applicationTools\";\n",
    "\n",
    "import { DistancesAndFootprintsToConcentrationLevelsCalculation } from \"./src/calculations/dispersionView\";\n",
    "\n",
    "import {\n",
    "  State,\n",
    "  Material,\n",
    "  MaterialComponent,\n",
    "  Vessel,\n",
    "  Leak,\n",
    "  DischargeParameters,\n",
    "  DispersionParameters,\n",
    "  Weather,\n",
    "  Substrate,\n",
    "  DispersionOutputConfig,\n",
    "  LocalPosition,\n",
    "} from \"./src/entities\";\n",
    "\n",
    "import {\n",
    "  ResultCode,\n",
    "  FluidSpec,\n",
    "  MixtureModelling,\n",
    "  SpecialConcentration,\n",
    "} from \"./src/enums\";\n",
    "\n",
    "import { setAccessToken } from \"./src/utilities\";\n",
    "import { getMaterialByName } from \"./src/materials\";\n",
    "import Plotly from \"tslab-plotly\";\n",
    "import * as tslab from \"tslab\";\n",
    "\n",
    "// Set up access token\n",
    "const accessToken = process.env.PWS_ACCESS_TOKEN;\n",
    "if (!accessToken) {\n",
    "  throw new Error(\"PWS_ACCESS_TOKEN environment variable is not set.\");\n",
    "}\n",
    "setAccessToken(accessToken);\n"
   ]
  },
  {
   "cell_type": "markdown",
   "metadata": {},
   "source": [
    "## Running discharge calculations"
   ]
  },
  {
   "cell_type": "markdown",
   "metadata": {},
   "source": [
    "### Calculate the vessel conditions\n",
    "Define the input data and determine the vessel conditions..."
   ]
  },
  {
   "cell_type": "code",
   "execution_count": 25,
   "metadata": {},
   "outputs": [
    {
     "name": "stdout",
     "output_type": "stream",
     "text": [
      "Vessel state calculation successful.\n",
      "The vessel conditions are 1\n"
     ]
    }
   ],
   "source": [
    "const material = await getMaterialByName(\"HYDROGEN\");\n",
    "const pressure = 20000000;\n",
    "const temperature = 293.15;\n",
    "const holeDiameter = 0.02;\n",
    "\n",
    "const state = new State({\n",
    "  pressure: pressure,\n",
    "  temperature: temperature,\n",
    "  liquidFraction: 0,\n",
    "  flashFlag: FluidSpec.TP,\n",
    "  mixtureModelling: MixtureModelling.PC\n",
    "});\n",
    "\n",
    "const vesselStateCalculation = new VesselStateCalculation(material, state);\n",
    "\n",
    "const resultCode = await vesselStateCalculation.run();\n",
    "\n",
    "if (resultCode === ResultCode.SUCCESS) {\n",
    "    console.log(\"Vessel state calculation successful.\");\n",
    "    console.log(\"The vessel conditions are \" + vesselStateCalculation.vesselConditions);\n",
    "    \n",
    "    var vesselConditions = vesselStateCalculation.vesselConditions;\n",
    "} else {\n",
    "    console.log(\"Vessel state calculation failed.\");\n",
    "}"
   ]
  },
  {
   "cell_type": "markdown",
   "metadata": {},
   "source": [
    "### Calculate the discharge\n",
    "Use the VesselLeakCalculation class to model the discharge..."
   ]
  },
  {
   "cell_type": "code",
   "execution_count": 26,
   "metadata": {},
   "outputs": [
    {
     "name": "stdout",
     "output_type": "stream",
     "text": [
      "Discharge calculations successful.\n"
     ]
    }
   ],
   "source": [
    "const vessel = new Vessel({\n",
    "  state: state,\n",
    "  material: material,\n",
    "  liquidFillFractionByVolume: 0,\n",
    "  vesselConditions: vesselStateCalculation.vesselConditions\n",
    "});\n",
    "\n",
    "const leak = new Leak({\n",
    "  holeDiameter: holeDiameter\n",
    "});\n",
    "\n",
    "const dischargeParameters = new DischargeParameters();\n",
    "\n",
    "const vesselLeakCalculation = new VesselLeakCalculation(\n",
    "  vessel,\n",
    "  leak,\n",
    "  dischargeParameters\n",
    ");\n",
    "\n",
    "const resultCode2 = await vesselLeakCalculation.run();\n",
    "\n",
    "if (resultCode2 === ResultCode.SUCCESS) {\n",
    "    console.log(\"Discharge calculations successful.\");\n",
    "} else {\n",
    "    console.log(\"Discharge calculations failed.\");\n",
    "}"
   ]
  },
  {
   "cell_type": "markdown",
   "metadata": {},
   "source": [
    "### Review the discharge results\n",
    "In this scenario, the Leak uses the default INITIAL_RATE for the timeVaryingOption. In other words, the leak is a constant discharge at the maximum discharge rate."
   ]
  },
  {
   "cell_type": "code",
   "execution_count": 27,
   "metadata": {},
   "outputs": [
    {
     "name": "stdout",
     "output_type": "stream",
     "text": [
      "Time: 0.00 s, Mass flow: 3.27 kg/s\n",
      "Time: 55.45 s, Mass flow: 3.27 kg/s\n"
     ]
    }
   ],
   "source": [
    "for (const record of vesselLeakCalculation.dischargeRecords!) {\n",
    "    console.log(`Time: ${record.time.toFixed(2)} s, Mass flow: ${record.massFlow.toFixed(2)} kg/s`);\n",
    "}"
   ]
  },
  {
   "cell_type": "markdown",
   "metadata": {},
   "source": [
    "## Running dispersion calculations"
   ]
  },
  {
   "cell_type": "markdown",
   "metadata": {},
   "source": [
    "### Calculate the dispersion\n",
    "We can pass the discharge results into a DispersionCalculation..."
   ]
  },
  {
   "cell_type": "code",
   "execution_count": 28,
   "metadata": {},
   "outputs": [
    {
     "name": "stdout",
     "output_type": "stream",
     "text": [
      "Dispersion calculations successful.\n"
     ]
    }
   ],
   "source": [
    "const weather = new Weather({\n",
    "  windSpeed: 5\n",
    "});\n",
    "\n",
    "const substrate = new Substrate();\n",
    "const dispersionCalculations: DispersionCalculation[] = [];\n",
    "const endPointConcentration = 0.0;\n",
    "const dispersionParameters = new DispersionParameters();\n",
    "\n",
    "const dispersionCalculation = new DispersionCalculation(\n",
    "  vesselLeakCalculation.exitMaterial!,\n",
    "  substrate,\n",
    "  vesselLeakCalculation.dischargeResult!,\n",
    "  vesselLeakCalculation.dischargeRecords!,\n",
    "  vesselLeakCalculation.dischargeRecords!.length,\n",
    "  weather,\n",
    "  dispersionParameters,\n",
    "  endPointConcentration\n",
    ");\n",
    "\n",
    "const resultCode3 = await dispersionCalculation.run();\n",
    "\n",
    "if (resultCode3 === ResultCode.SUCCESS) {\n",
    "    console.log(\"Dispersion calculations successful.\");\n",
    "} else {\n",
    "    console.log(\"Dispersion calculations failed.\");\n",
    "}"
   ]
  },
  {
   "cell_type": "markdown",
   "metadata": {},
   "source": [
    "## Running post-processing calculations"
   ]
  },
  {
   "cell_type": "markdown",
   "metadata": {},
   "source": [
    "### Calculate distances and footprints to concentration levels\n",
    "The DispersionCalculation returns raw dispersion results which need to be post-processed. For this we can use the DistancesAndFootprintsToConcentrationLevelsCalculation class to generate contour points on an XY plane.\n",
    "\n",
    "This calculation requires a list of DispersionOutputConfig. This is normally reserved for situations where there are multiple concentrations of interest, one per output config. Although the output config has an elevation property, which is the height of interest for the footprint, at the time of writing the API does not support varying the elevation in a single calculation.\n",
    "\n",
    "Thus, we run one DistancesAndFootprintsToConcentrationLevelsCalculation per heightOfInterest."
   ]
  },
  {
   "cell_type": "code",
   "execution_count": 29,
   "metadata": {},
   "outputs": [
    {
     "name": "stdout",
     "output_type": "stream",
     "text": [
      "Footprint calculations successful for 0 m height.\n",
      "Footprint calculations successful for 1 m height.\n",
      "Footprint calculations successful for 2 m height.\n",
      "Footprint calculations successful for 3 m height.\n",
      "Footprint calculations successful for 4 m height.\n",
      "Footprint calculations successful for 5 m height.\n",
      "Footprint calculations successful for 6 m height.\n"
     ]
    }
   ],
   "source": [
    "const heightsOfInterest = [0, 1, 2, 3, 4, 5, 6];\n",
    "const footprintCalculations: DistancesAndFootprintsToConcentrationLevelsCalculation[] = [];\n",
    "\n",
    "for (const heightOfInterest of heightsOfInterest) {\n",
    "    const footprintCalculation = new DistancesAndFootprintsToConcentrationLevelsCalculation(\n",
    "        dispersionCalculation.scalarUdmOutputs!,\n",
    "        weather,\n",
    "        dispersionCalculation.dispersionRecords!,\n",
    "        dispersionCalculation.dispersionRecords!.length,\n",
    "        substrate,\n",
    "        [new DispersionOutputConfig({\n",
    "            elevation: heightOfInterest,\n",
    "            specialConcentration: SpecialConcentration.LFL\n",
    "        })],\n",
    "        1,\n",
    "        dispersionParameters,\n",
    "        vesselLeakCalculation.exitMaterial!\n",
    "    );\n",
    "\n",
    "    const resultCode4 = await footprintCalculation.run();\n",
    "\n",
    "    if (resultCode4 === ResultCode.SUCCESS) {\n",
    "        console.log(`Footprint calculations successful for ${heightOfInterest} m height.`);\n",
    "        footprintCalculations.push(footprintCalculation);\n",
    "    } else {\n",
    "        console.log(\"Footprint calculations failed.\");\n",
    "    }\n",
    "}"
   ]
  },
  {
   "cell_type": "markdown",
   "metadata": {},
   "source": [
    "## Review the results"
   ]
  },
  {
   "cell_type": "markdown",
   "metadata": {},
   "source": [
    "The DistancesAndFootprintsToConcentrationLevelsCalculation provides XY contour points for a specific concentration. In this case, we used the SpecialConcentration.LFL option. Let's check this..."
   ]
  },
  {
   "cell_type": "code",
   "execution_count": 30,
   "metadata": {},
   "outputs": [
    {
     "name": "stdout",
     "output_type": "stream",
     "text": [
      "The concentration fraction used in the footprint calculation for a height of 0 is [0.04]\n",
      "The concentration fraction used in the footprint calculation for a height of 1 is [0.04]\n",
      "The concentration fraction used in the footprint calculation for a height of 2 is [0.04]\n",
      "The concentration fraction used in the footprint calculation for a height of 3 is [0.04]\n",
      "The concentration fraction used in the footprint calculation for a height of 4 is [0.04]\n",
      "The concentration fraction used in the footprint calculation for a height of 5 is [0.04]\n",
      "The concentration fraction used in the footprint calculation for a height of 6 is [0.04]\n",
      "This compares to an LFL for hydrogen equal to 0.04, which is equivalent to 40000 ppm.\n"
     ]
    }
   ],
   "source": [
    "for (const footprintCalculation of footprintCalculations) {\n",
    "    console.log(`The concentration fraction used in the footprint calculation for a height of ${footprintCalculation.dispersionOutputConfigs[0].elevation} is [${footprintCalculation.concsUsed}]`);\n",
    "}\n",
    "\n",
    "const constantMixtureProperties = new MixtureConstantPropertiesCalculation(material);\n",
    "\n",
    "const resultCode5 = await constantMixtureProperties.run();\n",
    "\n",
    "if (resultCode5 === ResultCode.SUCCESS) {\n",
    "    const lfl = constantMixtureProperties.mixConstantPropResult!.lowerFlammabilityLimit;\n",
    "    console.log(`This compares to an LFL for hydrogen equal to ${lfl}, ` +\n",
    "          `which is equivalent to ${lfl * 1000000} ppm.`);\n",
    "} else {\n",
    "    console.log(\"Mixture properties calculations failed.\");\n",
    "}"
   ]
  },
  {
   "cell_type": "markdown",
   "metadata": {},
   "source": [
    "The DistancesAndFootprintsToConcentrationLevelsCalculation object has a distancesConcentration property which provides us with the downwind distance to the concentration used in the calculation."
   ]
  },
  {
   "cell_type": "code",
   "execution_count": 31,
   "metadata": {},
   "outputs": [
    {
     "name": "stdout",
     "output_type": "stream",
     "text": [
      "The downwind distance to a concentration fraction of 0.04 is 52.97 m.\n",
      "The downwind distance to a concentration fraction of 0.04 is 59.20 m.\n",
      "The downwind distance to a concentration fraction of 0.04 is 63.54 m.\n",
      "The downwind distance to a concentration fraction of 0.04 is 66.35 m.\n",
      "The downwind distance to a concentration fraction of 0.04 is 67.23 m.\n",
      "The downwind distance to a concentration fraction of 0.04 is 65.23 m.\n",
      "The downwind distance to a concentration fraction of 0.04 is -9.95e+36 m.\n"
     ]
    }
   ],
   "source": [
    "for (const footprintCalculation of footprintCalculations) {\n",
    "    const distance = footprintCalculation.distancesConcentration![0];\n",
    "    console.log(`The downwind distance to a concentration fraction of ${footprintCalculation.concsUsed![0]} is ${distance.toFixed(2)} m.`);\n",
    "}"
   ]
  },
  {
   "cell_type": "markdown",
   "metadata": {},
   "source": [
    "## Plot the contour points"
   ]
  },
  {
   "cell_type": "markdown",
   "metadata": {},
   "source": [
    "The DistancesAndFootprintsToConcentrationLevelsCalculation object has a contourPoints property. This is a list of LocalPosition, which itself has x, y and z properties.\n",
    "\n",
    "**Note:** The ncontourPoints property contains the number of graphing points per DispersionOutputConfig, and contourPoints is an array of all graphing points for all DispersionOutputConfigs, where the order of the graphing points is the same order in which the DispersionOutputConfigs were provided. For example, if you defined three output configs for concentration levels ordered as LFL, LFLFraction and UFL, the contourPoints array will contain the graphing points for LFL, LFLFraction and UFL in the same order.\n",
    "\n",
    "Unlike contour data for radiation, the number of contour points for each scenario is not always the same.\n",
    "\n",
    "Let's extract and display the 3D data..."
   ]
  },
  {
   "cell_type": "code",
   "execution_count": 32,
   "metadata": {},
   "outputs": [
    {
     "name": "stdout",
     "output_type": "stream",
     "text": [
      "Total valid contour points: 3212\n",
      "X range: -0.10 to 67.23 m\n",
      "Y range: -3.12 to 3.12 m\n",
      "Z range: 0.00 to 5.00 m\n",
      "3D cloud data prepared for visualization:\n"
     ]
    }
   ],
   "source": [
    "// MDE value check - threshold value returned from the model development environment\n",
    "const mdeValueCheck = -9.9E+36; // -9.95E+36 is a threshold value to signify that there is no result\n",
    "\n",
    "// Extract x, y, z values from all footprint calculations\n",
    "const xValues: number[] = [];\n",
    "const yValues: number[] = [];\n",
    "const zValues: number[] = [];\n",
    "\n",
    "for (const calculation of footprintCalculations) {\n",
    "    for (const point of calculation.contourPoints!) {\n",
    "        if (point.x > mdeValueCheck) {\n",
    "            xValues.push(point.x);\n",
    "            yValues.push(point.y);\n",
    "            zValues.push(point.z);\n",
    "        }\n",
    "    }\n",
    "}\n",
    "\n",
    "console.log(`Total valid contour points: ${xValues.length}`);\n",
    "console.log(`X range: ${Math.min(...xValues).toFixed(2)} to ${Math.max(...xValues).toFixed(2)} m`);\n",
    "console.log(`Y range: ${Math.min(...yValues).toFixed(2)} to ${Math.max(...yValues).toFixed(2)} m`);\n",
    "console.log(`Z range: ${Math.min(...zValues).toFixed(2)} to ${Math.max(...zValues).toFixed(2)} m`);\n",
    "\n",
    "// Export data for visualization (can be imported into plotting libraries)\n",
    "const plotData = {\n",
    "    x: xValues,\n",
    "    y: yValues,\n",
    "    z: zValues,\n",
    "    type: '3D Cloud Contour Points',\n",
    "    concentration: 'LFL (Lower Flammability Limit)',\n",
    "    material: 'Hydrogen'\n",
    "};\n",
    "\n",
    "console.log(\"3D cloud data prepared for visualization:\");\n",
    "//console.log(JSON.stringify(plotData, null, 2));"
   ]
  },
  {
   "cell_type": "code",
   "execution_count": 33,
   "metadata": {},
   "outputs": [
    {
     "data": {
      "image/png": "[encoded data removed]"
     },
     "metadata": {},
     "output_type": "display_data"
    }
   ],
   "source": [
    "// MDE value check\n",
    "const mdeValueCheck = -9.9E+36;\n",
    "\n",
    "const xValues: number[] = [];\n",
    "const yValues: number[] = [];\n",
    "const zValues: number[] = [];\n",
    "\n",
    "for (const calculation of footprintCalculations) {\n",
    "    for (const point of calculation.contourPoints!) {\n",
    "        if (point.x > mdeValueCheck) {\n",
    "            xValues.push(point.x);\n",
    "            yValues.push(point.y);\n",
    "            zValues.push(point.z);\n",
    "        }\n",
    "    }\n",
    "}\n",
    "\n",
    "// Plotting\n",
    "Plotly.newPlot(tslab, [{\n",
    "    type: \"scatter3d\",\n",
    "    mode: \"markers\",\n",
    "    x: xValues,\n",
    "    y: yValues,\n",
    "    z: zValues,\n",
    "    marker: {\n",
    "        size: 2,\n",
    "        color: zValues,\n",
    "        colorscale: \"Viridis\",\n",
    "        opacity: 0.8,\n",
    "        colorbar: {\n",
    "            title: \"Elevation (m)\"\n",
    "        }\n",
    "    }\n",
    "}], {\n",
    "    title: \"3D Cloud Contour Points - Hydrogen (LFL)\",\n",
    "    scene: {\n",
    "        xaxis: { title: \"X (m)\" },\n",
    "        yaxis: { title: \"Y (m)\" },\n",
    "        zaxis: { title: \"Z (m)\" }\n",
    "    },\n",
    "    width: 800,\n",
    "    height: 600\n",
    "});"
   ]
  }
 ],
 "metadata": {
  "kernelspec": {
   "display_name": "TypeScript",
   "language": "typescript",
   "name": "tslab"
  },
  "language_info": {
   "codemirror_mode": {
    "mode": "typescript",
    "name": "javascript",
    "typescript": true
   },
   "file_extension": ".ts",
   "mimetype": "text/typescript",
   "name": "typescript",
   "version": "3.7.2"
  }
 },
 "nbformat": 4,
 "nbformat_minor": 4
}
